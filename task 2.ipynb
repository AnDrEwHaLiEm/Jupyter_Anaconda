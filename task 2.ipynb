{
 "cells": [
  {
   "cell_type": "code",
   "execution_count": 1,
   "id": "e3e1a9e6",
   "metadata": {},
   "outputs": [],
   "source": [
    "import networkx as nx"
   ]
  },
  {
   "cell_type": "code",
   "execution_count": null,
   "id": "5d70c758",
   "metadata": {},
   "outputs": [],
   "source": [
    "def get_leaves(G):\n",
    "    listWithOneDegree=[]\n",
    "    for node in G.nodes:\n",
    "        if(G.degree(node) == 1):\n",
    "            listWithOneDegree.append(node)\n",
    "    return listWithOneDegree\n",
    "        \n",
    "G = nx.Graph()\n",
    "G.add_edges_from([\n",
    "        ('a', 'b'),\n",
    "        ('a', 'd'),\n",
    "        ('c', 'd'),\n",
    "    ])\n",
    "assert set(get_leaves(G)) == {'c', 'b'}"
   ]
  },
  {
   "cell_type": "code",
   "execution_count": 3,
   "id": "4fd61a31",
   "metadata": {},
   "outputs": [],
   "source": [
    "def max_degree(G):\n",
    "    friendName = \"\"\n",
    "    maxDegree = -1\n",
    "    for node in G.nodes:\n",
    "        if(G.degree(node) >= maxDegree):\n",
    "            maxDegree = G.degree(node)\n",
    "            friendName = node\n",
    "    return (friendName,maxDegree)\n",
    "    \n",
    "\n",
    "SG = nx.read_adjlist('./friends.adjlist')\n",
    "assert max_degree(SG) == ('Claire', 4)\n",
    "\n"
   ]
  },
  {
   "cell_type": "code",
   "execution_count": 4,
   "id": "4853af28",
   "metadata": {},
   "outputs": [],
   "source": [
    "def mutual_friends(G, node_1, node_2):\n",
    "        friendNode1 = list(G.neighbors(node_1))\n",
    "        friendNode2 = list(G.neighbors(node_2))\n",
    "        listCommonFriend=[]\n",
    "        for friend1 in friendNode1:\n",
    "            for friend2 in friendNode2:\n",
    "                if(friend1 == friend2):\n",
    "                    listCommonFriend.append(friend1)\n",
    "                    break\n",
    "        \n",
    "        return listCommonFriend\n",
    "            \n",
    "SG = nx.read_adjlist('./friends.adjlist')\n",
    "assert mutual_friends(SG, 'Alice', 'Claire') == ['Frank']\n",
    "assert mutual_friends(SG, 'George', 'Bob') == []\n",
    "assert sorted(mutual_friends(SG, 'Claire', 'George')) == ['Dennis', 'Frank']"
   ]
  },
  {
   "cell_type": "code",
   "execution_count": null,
   "id": "66654c47",
   "metadata": {},
   "outputs": [],
   "source": []
  }
 ],
 "metadata": {
  "kernelspec": {
   "display_name": "Python 3 (ipykernel)",
   "language": "python",
   "name": "python3"
  },
  "language_info": {
   "codemirror_mode": {
    "name": "ipython",
    "version": 3
   },
   "file_extension": ".py",
   "mimetype": "text/x-python",
   "name": "python",
   "nbconvert_exporter": "python",
   "pygments_lexer": "ipython3",
   "version": "3.8.10"
  }
 },
 "nbformat": 4,
 "nbformat_minor": 5
}
