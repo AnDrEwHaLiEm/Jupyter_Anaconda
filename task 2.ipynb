{
 "cells": [
  {
   "cell_type": "code",
   "execution_count": 1,
   "id": "0f92ab8b",
   "metadata": {},
   "outputs": [],
   "source": [
    "import networkx as nx"
   ]
  },
  {
   "cell_type": "code",
   "execution_count": 2,
   "id": "15c9af9f",
   "metadata": {},
   "outputs": [],
   "source": [
    "def get_leaves(G):\n",
    "    node_with_one_degree = []\n",
    "    for node in G.nodes:\n",
    "        if(G.degree(node) == 1):\n",
    "            node_with_one_degree.append(node)\n",
    "    return node_with_one_degree\n",
    "        \n",
    "G = nx.Graph()\n",
    "G.add_edges_from([\n",
    "        ('a', 'b'),\n",
    "        ('a', 'd'),\n",
    "        ('c', 'd'),\n",
    "    ])\n",
    "assert set(get_leaves(G)) == {'c', 'b'}"
   ]
  },
  {
   "cell_type": "code",
   "execution_count": 3,
   "id": "f4137af1",
   "metadata": {},
   "outputs": [],
   "source": [
    "def max_degree(G):\n",
    "    name = \"\"\n",
    "    degree = 0\n",
    "    for node in G.nodes:\n",
    "        if(G.degree(node) >= degree):\n",
    "            degree = G.degree(node)\n",
    "            name = node\n",
    "    return (name,degree)\n",
    "    \n",
    "\n",
    "SG = nx.read_adjlist('./friends.adjlist')\n",
    "assert max_degree(SG) == ('Claire', 4)\n",
    "\n"
   ]
  },
  {
   "cell_type": "code",
   "execution_count": 4,
   "id": "f1c68908",
   "metadata": {},
   "outputs": [],
   "source": [
    "def mutual_friends(G, node_1, node_2):\n",
    "        l_1 = list(G.neighbors(node_1))\n",
    "        l_2 = list(G.neighbors(node_2))\n",
    "        return list(set(l_1).intersection(l_2))\n",
    "            \n",
    "SG = nx.read_adjlist('./friends.adjlist')\n",
    "assert mutual_friends(SG, 'Alice', 'Claire') == ['Frank']\n",
    "assert mutual_friends(SG, 'George', 'Bob') == []\n",
    "assert sorted(mutual_friends(SG, 'Claire', 'George')) == ['Dennis', 'Frank']"
   ]
  },
  {
   "cell_type": "code",
   "execution_count": null,
   "id": "ef3b4625",
   "metadata": {},
   "outputs": [],
   "source": []
  }
 ],
 "metadata": {
  "kernelspec": {
   "display_name": "Python 3 (ipykernel)",
   "language": "python",
   "name": "python3"
  },
  "language_info": {
   "codemirror_mode": {
    "name": "ipython",
    "version": 3
   },
   "file_extension": ".py",
   "mimetype": "text/x-python",
   "name": "python",
   "nbconvert_exporter": "python",
   "pygments_lexer": "ipython3",
   "version": "3.9.7"
  }
 },
 "nbformat": 4,
 "nbformat_minor": 5
}
