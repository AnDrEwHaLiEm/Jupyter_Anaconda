{
 "cells": [
  {
   "cell_type": "code",
   "execution_count": 1,
   "id": "46986cca",
   "metadata": {},
   "outputs": [
    {
     "name": "stdout",
     "output_type": "stream",
     "text": [
      "11\n"
     ]
    }
   ],
   "source": [
    "def calc(a,b):\n",
    "    return a+b\n",
    "\n",
    "print(calc(5,6))\n"
   ]
  },
  {
   "cell_type": "code",
   "execution_count": 7,
   "id": "b7d85722",
   "metadata": {},
   "outputs": [
    {
     "name": "stdout",
     "output_type": "stream",
     "text": [
      "230\n"
     ]
    }
   ],
   "source": [
    "def calcMax(d):\n",
    "    ans = d[0]\n",
    "    for i in d:\n",
    "        if i >= ans:\n",
    "            ans = i\n",
    "    return ans\n",
    "d = [1,2,3,5,4,230,56,2,6,8,5,6,23,65,3,4,6,66,7,5]\n",
    "print(calcMax(d))"
   ]
  },
  {
   "cell_type": "code",
   "execution_count": 35,
   "id": "c1b0ca9c",
   "metadata": {},
   "outputs": [
    {
     "name": "stdout",
     "output_type": "stream",
     "text": [
      "Enter Number of Student : 5\n",
      "Enter Student Name : hema\n",
      "degree splite by space : 1 2 3 4 5\n",
      "Enter Student Name : andrew\n",
      "degree splite by space : 1 2 3 50 1 2\n",
      "Enter Student Name : ana\n",
      "degree splite by space : 100 100 100 100\n",
      "Enter Student Name : anta\n",
      "degree splite by space : 60 70 80 90 500\n",
      "Enter Student Name : saad\n",
      "degree splite by space : 10 20 30 40 50 60\n",
      "student Name :  hema student total Degree :  15\n",
      "Faild\n",
      "student Name :  andrew student total Degree :  59\n",
      "Faild\n",
      "student Name :  ana student total Degree :  400\n",
      "Success\n",
      "student Name :  anta student total Degree :  800\n",
      "Success\n",
      "student Name :  saad student total Degree :  210\n",
      "Faild\n"
     ]
    }
   ],
   "source": [
    "def calcStudentDegree(d):\n",
    "    for i in d:\n",
    "        totalDeree = 0\n",
    "        finalldegree = 0;\n",
    "        for j in d[i]:\n",
    "            finalldegree+=100\n",
    "            totalDeree = totalDeree + j\n",
    "        print(\"student Name : \",i,\"student total Degree : \",totalDeree)\n",
    "        if totalDeree*2 >= finalldegree:\n",
    "            print(\"Success\")\n",
    "        else:\n",
    "            print(\"Faild\")\n",
    "       \n",
    "\n",
    "student_date = {}\n",
    "number_student_string = input(\"Enter Number of Student : \")\n",
    "number_student = 0\n",
    "for i in range(0,len(number_student_string)):\n",
    "    number_student = number_student * 10 + ord(number_student_string[i])-ord('0')\n",
    "for i in range(0,number_student):\n",
    "    name =  input(\"Enter Student Name : \")\n",
    "    degrees = input(\"degree splite by space : \")\n",
    "    degreelist = []\n",
    "    degree = 0\n",
    "    for i in range(0,len(degrees)):\n",
    "        if degrees[i] == ' ':\n",
    "            \n",
    "            degreelist.append(degree)\n",
    "            degree = 0\n",
    "        else:\n",
    "            degree = degree*10 + ord(degrees[i]) - ord('0')\n",
    "    degreelist.append(degree)\n",
    "    student_date[name] = degreelist\n",
    "            \n",
    "calcStudentDegree(student_date)\n",
    "        "
   ]
  },
  {
   "cell_type": "code",
   "execution_count": 1,
   "id": "80be99ba",
   "metadata": {},
   "outputs": [],
   "source": [
    "import networkx as nx"
   ]
  },
  {
   "cell_type": "code",
   "execution_count": null,
   "id": "0a6bac9b",
   "metadata": {},
   "outputs": [],
   "source": []
  },
  {
   "cell_type": "code",
   "execution_count": null,
   "id": "67ce976d",
   "metadata": {},
   "outputs": [],
   "source": []
  }
 ],
 "metadata": {
  "kernelspec": {
   "display_name": "Python 3 (ipykernel)",
   "language": "python",
   "name": "python3"
  },
  "language_info": {
   "codemirror_mode": {
    "name": "ipython",
    "version": 3
   },
   "file_extension": ".py",
   "mimetype": "text/x-python",
   "name": "python",
   "nbconvert_exporter": "python",
   "pygments_lexer": "ipython3",
   "version": "3.9.7"
  }
 },
 "nbformat": 4,
 "nbformat_minor": 5
}
