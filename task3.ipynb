{
 "cells": [
  {
   "cell_type": "code",
   "execution_count": 1,
   "id": "31deabbc",
   "metadata": {},
   "outputs": [],
   "source": [
    "import networkx as nx"
   ]
  },
  {
   "cell_type": "code",
   "execution_count": 2,
   "id": "abaa5cf5",
   "metadata": {},
   "outputs": [],
   "source": [
    "%matplotlib inline"
   ]
  },
  {
   "cell_type": "code",
   "execution_count": 3,
   "id": "c8bddc25",
   "metadata": {},
   "outputs": [],
   "source": [
    "G = nx.read_graphml('openflights_usa.graphml.gz')"
   ]
  },
  {
   "cell_type": "code",
   "execution_count": 4,
   "id": "10f36498",
   "metadata": {},
   "outputs": [
    {
     "name": "stdout",
     "output_type": "stream",
     "text": [
      "NO there is't a direct flight\n"
     ]
    }
   ],
   "source": [
    "pathlist = nx.shortest_path(G, 'IND', 'FAI')\n",
    "if len(pathlist) == 1:\n",
    "    print(\"YES there is a direct flight \")\n",
    "else:\n",
    "    print(\"NO there is't a direct flight\")"
   ]
  },
  {
   "cell_type": "code",
   "execution_count": 5,
   "id": "842de018",
   "metadata": {},
   "outputs": [
    {
     "data": {
      "text/plain": [
       "['IND', 'BOS', 'SEA', 'FAI']"
      ]
     },
     "execution_count": 5,
     "metadata": {},
     "output_type": "execute_result"
    }
   ],
   "source": [
    "nx.shortest_path(G, 'IND', 'FAI')"
   ]
  },
  {
   "cell_type": "code",
   "execution_count": 6,
   "id": "1f3695e1",
   "metadata": {},
   "outputs": [
    {
     "name": "stdout",
     "output_type": "stream",
     "text": [
      "NO there isn't any path from to any other airpoer\n"
     ]
    }
   ],
   "source": [
    "if nx.is_connected(G):\n",
    "    print(\"YES there exist path from to any other airport\")\n",
    "else:\n",
    "    print(\"NO there isn't any path from to any other airpoer\")"
   ]
  },
  {
   "cell_type": "code",
   "execution_count": null,
   "id": "185e9909",
   "metadata": {},
   "outputs": [],
   "source": []
  }
 ],
 "metadata": {
  "kernelspec": {
   "display_name": "Python 3 (ipykernel)",
   "language": "python",
   "name": "python3"
  },
  "language_info": {
   "codemirror_mode": {
    "name": "ipython",
    "version": 3
   },
   "file_extension": ".py",
   "mimetype": "text/x-python",
   "name": "python",
   "nbconvert_exporter": "python",
   "pygments_lexer": "ipython3",
   "version": "3.9.7"
  }
 },
 "nbformat": 4,
 "nbformat_minor": 5
}
